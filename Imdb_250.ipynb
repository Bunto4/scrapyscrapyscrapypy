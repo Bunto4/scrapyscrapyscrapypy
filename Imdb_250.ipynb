{
  "nbformat": 4,
  "nbformat_minor": 0,
  "metadata": {
    "colab": {
      "provenance": [],
      "collapsed_sections": [],
      "private_outputs": true,
      "include_colab_link": true
    },
    "kernelspec": {
      "name": "python3",
      "display_name": "Python 3"
    },
    "language_info": {
      "name": "python"
    },
    "gpuClass": "standard"
  },
  "cells": [
    {
      "cell_type": "markdown",
      "metadata": {
        "id": "view-in-github",
        "colab_type": "text"
      },
      "source": [
        "<a href=\"https://colab.research.google.com/github/Bunto4/scrapyscrapyscrapypy/blob/main/Imdb_250.ipynb\" target=\"_parent\"><img src=\"https://colab.research.google.com/assets/colab-badge.svg\" alt=\"Open In Colab\"/></a>"
      ]
    },
    {
      "cell_type": "code",
      "source": [
        "!pip install scrapy"
      ],
      "metadata": {
        "id": "MyPezwBy63nD"
      },
      "execution_count": null,
      "outputs": []
    },
    {
      "cell_type": "code",
      "execution_count": null,
      "metadata": {
        "id": "G1FZR59D1c_N"
      },
      "outputs": [],
      "source": [
        "import scrapy\n",
        "from scrapy.http import HtmlResponse\n",
        "from scrapy import Selector\n",
        "import requests"
      ]
    },
    {
      "cell_type": "code",
      "source": [
        "class ImdbSpider(scrapy.Spider):\n",
        "  name = \"imdb\"\n",
        "  allowed_domains = [\"imdb.com\"]\n",
        "  start_urls = ['http://www.imdb.com/chart/top']\n",
        "\n",
        "  def parse (self, response):\n",
        "    # nonweeme mad-mus co crpoxam, xapaxrepusynww Ton-(prams:\n",
        "    table_rows = response.xpath(\n",
        "    './/*[@class=\"chart full-width\" and @data-caller-name=\"chart-top250movie\"]/'\n",
        "    'tbody[@class=\"lister-list\"]/tr'\n",
        "    )\n",
        "\n",
        "    for row in table_rows:\n",
        "      yield {\"title\" : row.xpath(\"./td[@class='titleColumn']/a/text() \").extract_first(),\n",
        "               \"year\": row.xpath(\"./td[@class='titleColumn']/span/text()\").extract_first().strip(\"() \"),\n",
        "               \"rating\": row.xpath(\"./td[@class='ratingColumn imdbRating']/strong/text()\").extract_first(),\n",
        "               }"
      ],
      "metadata": {
        "id": "e6W2zhMt1kCn"
      },
      "execution_count": null,
      "outputs": []
    },
    {
      "cell_type": "code",
      "source": [
        "class MovieItem(scrapy.Item):\n",
        "  title = scrapy.Field()\n",
        "  rating = scrapy.Field()\n",
        "  summary = scrapy.Field()\n",
        "  year = scrapy.Field()\n",
        "  genre = scrapy.Field()\n",
        "  runtime = scrapy.Field()\n",
        "  directors = scrapy.Field()\n",
        "  writers = scrapy.Field()\n",
        "  cast = scrapy.Field()\n",
        "\n",
        "class ActorItem(scrapy.Item):\n",
        "  actor_name = scrapy.Field()\n",
        "  character = scrapy.Field()"
      ],
      "metadata": {
        "id": "u8wweh-SP3VQ"
      },
      "execution_count": null,
      "outputs": []
    },
    {
      "cell_type": "code",
      "source": [
        "class ImdbSpider_2(scrapy.Spider):\n",
        "  name = \"imdb\"\n",
        "  allowed_domains = [\"imdb.com\"]\n",
        "  base_url = 'https://imdb.com'\n",
        "  start_urls = ['http://www.imdb.com/chart/top']\n",
        "\n",
        "  def parse(self,response):\n",
        "    table_rows = response.xpath(\n",
        "        './/*[@class=\"chart full-width\" and @data-caller-name=\"chart-top250movie\"]/'\n",
        "    'tbody[@class=\"lister-list\"]/tr'\n",
        "    )\n",
        "\n",
        "    for row in table_rows:\n",
        "      rating = row.xpath(\"./td[@class='ratingColumn imdbRating']/strong/text()\").extract_first()\n",
        "      ret_url = row.xpath(\"td[@class='titleColumn']/a/@href\").extract_first().strip()\n",
        "      row_url = self.base_url + ret_url\n",
        "      yield scrapy.Request(row_url,callback = self.parseOneMovie,meta={'rating':rating})\n",
        "\n",
        "  def parseOneMovie(self,response):\n",
        "    item = MovieItem()\n",
        "\n",
        "    item['rating'] = response.meta['rating'][0]\n",
        "    item['title'] = response.xpath('.//*/div[@class=\"sc-80d4314-1 fbQftq\"]/h1/text()').extract_first().strip()\n",
        "    #item['title'] = response.xpath(\".//*/div[@class='title_wrapper']/h1/text()\").extract_first().strip()\n",
        "    item['year'] = response.xpath('//*[@id=\"__next\"]/main/div/section[1]/section/div[3]/section/section/div[2]/div[1]/div/ul/li[1]/span/text()').extract()[0]\n",
        "    \n",
        "\n",
        "\n",
        "    #item['summary'] = response.xpath(\".//*/div[@class='summary_text']/text()\").extract_first().strip()\n",
        "    #item['directors'] = response.xpath('.//*/div[@class=\"credit_summary_item\"]/a/text()').extract_first.strip()\n",
        "    #item['writers'] = response.xpath('.//*/div[@class=\"credit_summary_item\"]/a/text()').extract()[1].strip()\n",
        "\n",
        "    #item['cast'] = list()\n",
        "\n",
        "    #for cast in response.xpath(\".//table[@class='cast_list]/tr\")[1:]:\n",
        "      #actor = ActorItem()\n",
        "\n",
        "      #actor['actor_name']= cast.xpath(\"./td[2]/a/text()\").extract_first().strip()\n",
        "      #actor['character'] = cast.xpath(\"./td[@class='character']/a/text()\").extract_first()\n",
        "\n",
        "      #item['cast'].append(actor)\n",
        "\n",
        "    return item\n",
        "\n",
        "\n"
      ],
      "metadata": {
        "id": "RPCHQWuXQxIj"
      },
      "execution_count": null,
      "outputs": []
    },
    {
      "cell_type": "code",
      "source": [
        "DEBUG_URL = 'http://www.imdb.com/chart/top'\n",
        "\n",
        "req = requests.get(DEBUG_URL)\n",
        "\n",
        "response = HtmlResponse(url=DEBUG_URL, body=req.content)\n",
        "selector = Selector(response=response)"
      ],
      "metadata": {
        "id": "NJJPbJ1D4RRR"
      },
      "execution_count": null,
      "outputs": []
    },
    {
      "cell_type": "code",
      "source": [
        "response.body"
      ],
      "metadata": {
        "id": "zAVwUfVR8KZz"
      },
      "execution_count": null,
      "outputs": []
    },
    {
      "cell_type": "code",
      "source": [
        "DEBUG_URL = 'https://www.imdb.com/title/tt0111161'\n",
        "\n",
        "req = requests.get(DEBUG_URL)\n",
        "\n",
        "response = HtmlResponse(url=DEBUG_URL, body=req.content)\n",
        "selector = Selector(response=response)\n",
        "\n"
      ],
      "metadata": {
        "id": "sT11YnpU9Iw_"
      },
      "execution_count": null,
      "outputs": []
    },
    {
      "cell_type": "code",
      "source": [
        "e = selector.xpath (\n",
        "    '//*[@id=\"__next\"]/main/div/section[1]/section/div[3]/section/section/div[2]/div[1]/div/ul/li[1]/span/text()'\n",
        ").extract()[0]\n",
        "int(e)"
      ],
      "metadata": {
        "id": "OAqRMCdutYod"
      },
      "execution_count": null,
      "outputs": []
    },
    {
      "cell_type": "code",
      "source": [],
      "metadata": {
        "id": "Hh1dbZjTAx-p"
      },
      "execution_count": null,
      "outputs": []
    },
    {
      "cell_type": "markdown",
      "source": [],
      "metadata": {
        "id": "8sx8De0O30uI"
      }
    },
    {
      "cell_type": "code",
      "source": [
        "from scrapy.crawler import CrawlerProcess\n",
        "\n",
        "process = CrawlerProcess()\n",
        "process.crawl(ImdbSpider_2)\n",
        "process.start()"
      ],
      "metadata": {
        "id": "cg99CCo_-jRA"
      },
      "execution_count": null,
      "outputs": []
    },
    {
      "cell_type": "code",
      "source": [
        "from scrapy.crawler import CrawlerProcess\n",
        "process = CrawlerProcess(settings={\n",
        "    \"FEEDS\": {\n",
        "        \"Ruslan.csv\": {\"format\": \"csv\"},\n",
        "    },\n",
        "})\n",
        "\n",
        "process.crawl(ImdbSpider_2)\n",
        "process.start()\n"
      ],
      "metadata": {
        "id": "Fbh-G56p3eXV"
      },
      "execution_count": null,
      "outputs": []
    },
    {
      "cell_type": "code",
      "source": [
        "from scrapy.spiders import crawl\n"
      ],
      "metadata": {
        "id": "I4NCn0NgbtBq"
      },
      "execution_count": null,
      "outputs": []
    },
    {
      "cell_type": "code",
      "source": [
        "crawl.Request"
      ],
      "metadata": {
        "id": "O5mfibote8DU"
      },
      "execution_count": null,
      "outputs": []
    },
    {
      "cell_type": "code",
      "source": [
        "import pandas as pd\n",
        "\n",
        "data = pd.read_csv('/content/Ruslan.csv')"
      ],
      "metadata": {
        "id": "aoJVJH_69Jy_"
      },
      "execution_count": null,
      "outputs": []
    },
    {
      "cell_type": "code",
      "source": [
        "data"
      ],
      "metadata": {
        "id": "35U7953LXZSQ"
      },
      "execution_count": null,
      "outputs": []
    },
    {
      "cell_type": "code",
      "source": [],
      "metadata": {
        "id": "yM0Dlxnk0CW7"
      },
      "execution_count": null,
      "outputs": []
    }
  ]
}